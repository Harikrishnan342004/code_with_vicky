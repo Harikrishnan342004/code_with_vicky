{
 "cells": [
  {
   "cell_type": "code",
   "execution_count": 4,
   "metadata": {},
   "outputs": [
    {
     "name": "stdout",
     "output_type": "stream",
     "text": [
      "Anagram\n",
      " \n"
     ]
    }
   ],
   "source": [
    "#angram...\n",
    "def is_Anagram(s1, s2):\n",
    "    if( sorted(s1) == sorted(s2)):\n",
    "        print(\"Anagram\")\n",
    "    else:\n",
    "        print(\"Not Anagram\") \n",
    "    return \" \"\n",
    "s1 = \"listen\"\n",
    "s2 = \"silent\"\n",
    "Output = is_Anagram(s1, s2)\n",
    "print(Output)"
   ]
  }
 ],
 "metadata": {
  "kernelspec": {
   "display_name": "Python 3",
   "language": "python",
   "name": "python3"
  },
  "language_info": {
   "codemirror_mode": {
    "name": "ipython",
    "version": 3
   },
   "file_extension": ".py",
   "mimetype": "text/x-python",
   "name": "python",
   "nbconvert_exporter": "python",
   "pygments_lexer": "ipython3",
   "version": "3.10.2"
  }
 },
 "nbformat": 4,
 "nbformat_minor": 2
}
