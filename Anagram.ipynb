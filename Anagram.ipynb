{
 "cells": [
  {
   "cell_type": "code",
   "execution_count": 5,
   "metadata": {},
   "outputs": [
    {
     "name": "stdout",
     "output_type": "stream",
     "text": [
      "Anagram\n",
      " \n"
     ]
    }
   ],
   "source": [
    "#angram...\n",
    "def is_Anagram(s1, s2):\n",
    "    if( sorted(s1) == sorted(s2)):\n",
    "        print(\"Anagram\")\n",
    "    else:\n",
    "        print(\"Not Anagram\") \n",
    "    return \" \"\n",
    "s1 = \"listen\"\n",
    "s2 = \"silent\"\n",
    "Output = is_Anagram(s1, s2)\n",
    "dprint(Output)"
   ]
  },
  {
   "cell_type": "code",
   "execution_count": 12,
   "metadata": {},
   "outputs": [
    {
     "name": "stdout",
     "output_type": "stream",
     "text": [
      "True\n"
     ]
    }
   ],
   "source": [
    "def is_Anagram(s1, s2):\n",
    "    #lenght checking\n",
    "    if( len(s1) != len(s2)):\n",
    "        return False\n",
    "    dic = { }\n",
    "\n",
    "    for char in s1:\n",
    "        #print(char)\n",
    "        dic[char] = dic.get(char,0) + 1 \n",
    "    for char in s2:\n",
    "        dic[char] = dic.get(char , 0) - 1\n",
    "    for count in dic.values():\n",
    "        if count != 0:\n",
    "            return False\n",
    "    return True\n",
    "s1 = \"listen\"\n",
    "s2 = \"silent\"\n",
    "Output = is_Anagram(s1, s2)\n",
    "print(Output)"
   ]
  }
 ],
 "metadata": {
  "kernelspec": {
   "display_name": "Python 3",
   "language": "python",
   "name": "python3"
  },
  "language_info": {
   "codemirror_mode": {
    "name": "ipython",
    "version": 3
   },
   "file_extension": ".py",
   "mimetype": "text/x-python",
   "name": "python",
   "nbconvert_exporter": "python",
   "pygments_lexer": "ipython3",
   "version": "3.10.2"
  }
 },
 "nbformat": 4,
 "nbformat_minor": 2
}
