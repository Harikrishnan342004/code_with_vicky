{
 "cells": [
  {
   "cell_type": "code",
   "execution_count": 7,
   "id": "c9765994-5e82-4fb2-98a4-ea6aa92169fc",
   "metadata": {},
   "outputs": [
    {
     "name": "stdout",
     "output_type": "stream",
     "text": [
      "True\n"
     ]
    }
   ],
   "source": [
    "#Palindrome Or not.\n",
    "def palindrome(Input):\n",
    "    reverse_result = \"\"\n",
    "    for i in Input:\n",
    "        reverse_result =  i +  reverse_result\n",
    "    if (Input ==  reverse_result):\n",
    "        return True\n",
    "    else:\n",
    "        return False\n",
    "    \n",
    "    \n",
    "Input = \"malayalam\"\n",
    "output = palindrome(Input)\n",
    "print(output)"
   ]
  },
  {
   "cell_type": "code",
   "execution_count": 17,
   "id": "f2f80e9f-ab25-494b-be86-c7a3ec2c89ec",
   "metadata": {},
   "outputs": [
    {
     "name": "stdout",
     "output_type": "stream",
     "text": [
      "7\n"
     ]
    }
   ],
   "source": [
    "#countDigit.........\n",
    "def  countDigit(Input):\n",
    "    i = 0\n",
    "    while (Input != 0):\n",
    "        Input //= 10\n",
    "        i +=1\n",
    "    return i\n",
    "Input = 1234555\n",
    "output = countDigit(Input)\n",
    "print(output)"
   ]
  },
  {
   "cell_type": "code",
   "execution_count": 4,
   "id": "8fd7dc6b-b66a-4cc1-a2a0-44b93560b85b",
   "metadata": {},
   "outputs": [
    {
     "name": "stdout",
     "output_type": "stream",
     "text": [
      "321\n"
     ]
    }
   ],
   "source": [
    "#reverse_the_number........\n",
    "\n",
    "def reverse(Input):\n",
    "    result = 0\n",
    "    \n",
    "    while( Input != 0 ):\n",
    "        digit = Input % 10\n",
    "        result = result * 10 + digit\n",
    "        Input //=10\n",
    "    return result\n",
    "        \n",
    "Input = 123\n",
    "output = reverse(Input)\n",
    "print(output)"
   ]
  },
  {
   "cell_type": "code",
   "execution_count": 25,
   "id": "74e96bed-fd9b-4704-9d23-027af8433a9a",
   "metadata": {},
   "outputs": [
    {
     "name": "stdout",
     "output_type": "stream",
     "text": [
      "True\n"
     ]
    }
   ],
   "source": [
    "#ArmstrongNumber............\n",
    "def Armstrong_number(Input):\n",
    "    digit = len(str(Input))\n",
    "    parts = [int(i) for i  in str(Input)]\n",
    "    \n",
    "    counter = 0\n",
    "    for j in parts:\n",
    "      \n",
    "        counter += j ** digit\n",
    "    return counter == Input\n",
    "\n",
    "Input = 153\n",
    "output = Armstrong_number(Input)\n",
    "print(output)"
   ]
  },
  {
   "cell_type": "code",
   "execution_count": 32,
   "id": "abff6659-bc4d-4869-a8ea-48f3da854458",
   "metadata": {},
   "outputs": [
    {
     "name": "stdout",
     "output_type": "stream",
     "text": [
      "[1, 2, 3, 4, 6, 12]\n"
     ]
    }
   ],
   "source": [
    "#find the divisor of numbers........\n",
    "\n",
    "def divisor(Input):\n",
    "    result = [] \n",
    "    for i in range(1,Input+1):\n",
    "        if( Input % i == 0 ):\n",
    "            result.append(i)\n",
    "    return result\n",
    "\n",
    "Input = 12\n",
    "output = divisor(Input)\n",
    "print(output)"
   ]
  },
  {
   "cell_type": "code",
   "execution_count": 43,
   "id": "98ca1c2c-87f6-40c3-8dbb-16aa3e09637d",
   "metadata": {},
   "outputs": [
    {
     "name": "stdout",
     "output_type": "stream",
     "text": [
      "Prime Number\n"
     ]
    }
   ],
   "source": [
    "#prime number of not\n",
    "def prime_number_or_not(Input):\n",
    "    if( Input <= 1 ):\n",
    "        return \"Not prime number\"\n",
    "    for i in range(2, int(Input**0.5)+1):\n",
    "        if(Input % i == 0):\n",
    "            return \"Not Prime Number\"\n",
    "    return \"Prime Number\"\n",
    "    \n",
    "Input = 17\n",
    "output = prime_number_or_not(Input)\n",
    "print(output)"
   ]
  },
  {
   "cell_type": "code",
   "execution_count": 44,
   "id": "6cecfda2-8234-4bed-a1da-1095c101ad15",
   "metadata": {},
   "outputs": [
    {
     "name": "stdout",
     "output_type": "stream",
     "text": [
      "120\n"
     ]
    }
   ],
   "source": [
    "#factorial_number...\n",
    "def factorial(Input):\n",
    "    fact = 1\n",
    "    for i in range(1, Input+1):\n",
    "        fact = fact * i\n",
    "    return fact\n",
    "    \n",
    "Input = 5\n",
    "output = factorial(Input)\n",
    "print(output)"
   ]
  },
  {
   "cell_type": "code",
   "execution_count": 51,
   "id": "0762f7dd-f215-4fdd-a587-358d99fbccc4",
   "metadata": {},
   "outputs": [
    {
     "name": "stdout",
     "output_type": "stream",
     "text": [
      "19\n"
     ]
    }
   ],
   "source": [
    "# Sum of elements in the array...........\n",
    "def sum_arr(arr):\n",
    "    result = 0\n",
    "    for i in arr:\n",
    "        result = result +  i\n",
    "    return result\n",
    "\n",
    "arr = [12, 5 , 3 , -1]\n",
    "output = sum_arr(arr)\n",
    "print(output)"
   ]
  },
  {
   "cell_type": "code",
   "execution_count": 58,
   "id": "721deb95-4a63-4343-9dad-34fcaa13a5dd",
   "metadata": {},
   "outputs": [
    {
     "name": "stdout",
     "output_type": "stream",
     "text": [
      "23\n"
     ]
    }
   ],
   "source": [
    "#Large element in the array\n",
    "def max_arr(arr):\n",
    "    maxi = arr[0]\n",
    "    for i in arr:\n",
    "        if (i > maxi):\n",
    "            maxi = i\n",
    "    return maxi\n",
    "arr = [12, 5, 8, 23, 17, 9]\n",
    "output = max_arr(arr)\n",
    "print(output)"
   ]
  },
  {
   "cell_type": "code",
   "execution_count": 61,
   "id": "c3717b91-7b7c-416c-bd6e-c9117469bf57",
   "metadata": {},
   "outputs": [
    {
     "name": "stdout",
     "output_type": "stream",
     "text": [
      "-9\n"
     ]
    }
   ],
   "source": [
    "#Small elements in the array.....\n",
    "def min_arr(arr):\n",
    "    mini = arr[0]\n",
    "    for i in arr:\n",
    "        if i < mini :\n",
    "            mini = i\n",
    "    return mini\n",
    "arr = [-5,-9, -4, -1, -2]\n",
    "output = min_arr(arr)\n",
    "print(output)"
   ]
  },
  {
   "cell_type": "code",
   "execution_count": 64,
   "id": "b0f5b18c-888d-4841-926b-902e16991530",
   "metadata": {},
   "outputs": [
    {
     "name": "stdout",
     "output_type": "stream",
     "text": [
      "even Count: 2\n",
      "odd Count: 4\n",
      "None\n"
     ]
    }
   ],
   "source": [
    "#Count the elements in Array\n",
    "def  count_odd_even(arr):\n",
    "    odd = 0\n",
    "    even = 0\n",
    "    \n",
    "    for i in arr:\n",
    "        if( i%2 == 0 ):\n",
    "            even += 1\n",
    "           \n",
    "        if( i%2 != 0 ):\n",
    "            odd += 1\n",
    "           \n",
    "    print(\"even Count:\", even)\n",
    "    print(\"odd Count:\", odd)\n",
    "\n",
    "arr = [12, 5, 8, 23, 17, 9]\n",
    "output = count_odd_even(arr)\n",
    "print(output)"
   ]
  },
  {
   "cell_type": "code",
   "execution_count": 70,
   "id": "3269d250-8f93-49f4-9fdb-2869bc6fbebf",
   "metadata": {},
   "outputs": [
    {
     "name": "stdout",
     "output_type": "stream",
     "text": [
      "('Element found in index:', 3)\n"
     ]
    }
   ],
   "source": [
    "def Search_Element_in_the_Array(arr, target):\n",
    "    for i in range(len(arr)):\n",
    "        if( arr[i] == target):\n",
    "            return \"Element found in index:\", i\n",
    "    return \"Not found\"\n",
    "\n",
    "arr = [12, 5, 8, 23, 17, 9]\n",
    "target = 23\n",
    "output = Search_Element_in_the_Array(arr, target)\n",
    "print(output)"
   ]
  },
  {
   "cell_type": "code",
   "execution_count": 74,
   "id": "55dd4294-2b53-48fc-943e-446c02557074",
   "metadata": {},
   "outputs": [
    {
     "name": "stdout",
     "output_type": "stream",
     "text": [
      "[9, 17, 23, 8, 5, 12]\n"
     ]
    }
   ],
   "source": [
    "#Reverse the array.............\n",
    "def reverse(arr):\n",
    "    res = []\n",
    "    for i in range(len(arr)-1, -1, -1):\n",
    "        res.append(arr[i])\n",
    "    return res\n",
    "arr = [12, 5, 8, 23, 17, 9]\n",
    "output = reverse(arr)\n",
    "print(output)"
   ]
  },
  {
   "cell_type": "code",
   "execution_count": 77,
   "id": "c5aaf060-791b-452d-9088-1751dea05243",
   "metadata": {},
   "outputs": [
    {
     "name": "stdout",
     "output_type": "stream",
     "text": [
      "[12, 8, 17]\n",
      "3\n",
      "[-5, -2]\n",
      "2\n",
      "None\n"
     ]
    }
   ],
   "source": [
    "#Day-14 - Filter Elements from Array\n",
    "#Write a program to filter given numbers array by removing negative numbers.\n",
    "def fillter(arr):\n",
    "    positive_num = []\n",
    "    negative_num = []\n",
    "    positive_count = 0\n",
    "    negative_count = 0\n",
    "    \n",
    "    for i in arr:\n",
    "        if( i> 0):\n",
    "            positive_num.append(i)\n",
    "            positive_count += 1\n",
    "        if( i < 0):\n",
    "            negative_num.append(i)\n",
    "            negative_count += 1\n",
    "    print(positive_num)\n",
    "    print(positive_count)\n",
    "    print(negative_num)\n",
    "    print(negative_count)\n",
    "    \n",
    "arr = [12, -5, 8, -2, 17]\n",
    "output = fillter(arr)\n",
    "print(output)"
   ]
  },
  {
   "cell_type": "code",
   "execution_count": 88,
   "id": "6ce46d8e-c572-437b-881f-1522dd0d6267",
   "metadata": {},
   "outputs": [
    {
     "name": "stdout",
     "output_type": "stream",
     "text": [
      "['o', 'i']\n",
      "2\n",
      "['C', 'd', 'n', 'g']\n",
      "4\n",
      "None\n"
     ]
    }
   ],
   "source": [
    "##Count Vowels and Consonants\n",
    "# Problem Statement:\n",
    "# Write a program to count the number of vowels and consonants in a given string.\n",
    "def count_vowels_consonants(Input):\n",
    "    vow = []\n",
    "    vow_count = 0\n",
    "    con = []\n",
    "    con_count = 0\n",
    "    \n",
    "    vowels =  [\"a\",\"e\" , \"i\" , \"o\" , \"u\", \"A\" , \"E\", \"I\" , \"O\" , \"U\"]\n",
    "    \n",
    "    for i in range(len(Input)):\n",
    "        if( Input[i] in vowels):\n",
    "            vow.append(Input[i])\n",
    "            vow_count += 1\n",
    "        else:\n",
    "            con.append(Input[i])\n",
    "            con_count += 1\n",
    "    print(vow)\n",
    "    print(vow_count)\n",
    "    print(con)\n",
    "    print(con_count)\n",
    "    \n",
    "Input = \"Coding\"\n",
    "output = count_vowels_consonants(Input)\n",
    "print(output)"
   ]
  },
  {
   "cell_type": "code",
   "execution_count": null,
   "id": "458ecde1-4ce9-4ba7-8767-1e8d36443503",
   "metadata": {},
   "outputs": [],
   "source": []
  }
 ],
 "metadata": {
  "kernelspec": {
   "display_name": "Python 3 (ipykernel)",
   "language": "python",
   "name": "python3"
  },
  "language_info": {
   "codemirror_mode": {
    "name": "ipython",
    "version": 3
   },
   "file_extension": ".py",
   "mimetype": "text/x-python",
   "name": "python",
   "nbconvert_exporter": "python",
   "pygments_lexer": "ipython3",
   "version": "3.10.2"
  }
 },
 "nbformat": 4,
 "nbformat_minor": 5
}
